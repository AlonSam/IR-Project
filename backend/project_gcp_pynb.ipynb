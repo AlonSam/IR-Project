{
 "cells": [
  {
   "cell_type": "markdown",
   "id": "a00e032c",
   "metadata": {
    "id": "hWgiQS0zkWJ5"
   },
   "source": [
    "***Important*** DO NOT CLEAR THE OUTPUT OF THIS NOTEBOOK AFTER EXECUTION!!!"
   ]
  },
  {
   "cell_type": "code",
   "execution_count": 1,
   "id": "5ac36d3a",
   "metadata": {
    "id": "c0ccf76b",
    "nbgrader": {
     "grade": false,
     "grade_id": "cell-Worker_Count",
     "locked": true,
     "schema_version": 3,
     "solution": false,
     "task": false
    },
    "outputId": "cf88b954-f39a-412a-d87e-660833e735b6"
   },
   "outputs": [
    {
     "name": "stdout",
     "output_type": "stream",
     "text": [
      "NAME          PLATFORM  WORKER_COUNT  PREEMPTIBLE_WORKER_COUNT  STATUS   ZONE           SCHEDULED_DELETE\r\n",
      "cluster-77ea  GCE       4                                       RUNNING  us-central1-a\r\n"
     ]
    }
   ],
   "source": [
    "# if the following command generates an error, you probably didn't enable \n",
    "# the cluster security option \"Allow API access to all Google Cloud services\"\n",
    "# under Manage Security → Project Access when setting up the cluster\n",
    "!gcloud dataproc clusters list --region us-central1"
   ]
  },
  {
   "cell_type": "markdown",
   "id": "51cf86c5",
   "metadata": {
    "id": "01ec9fd3"
   },
   "source": [
    "# Imports & Setup"
   ]
  },
  {
   "cell_type": "code",
   "execution_count": 2,
   "id": "bf199e6a",
   "metadata": {
    "id": "32b3ec57",
    "nbgrader": {
     "grade": false,
     "grade_id": "cell-Setup",
     "locked": true,
     "schema_version": 3,
     "solution": false,
     "task": false
    },
    "outputId": "fc0e315d-21e9-411d-d69c-5b97e4e5d629"
   },
   "outputs": [
    {
     "name": "stdout",
     "output_type": "stream",
     "text": [
      "\u001B[33mWARNING: Running pip as the 'root' user can result in broken permissions and conflicting behaviour with the system package manager. It is recommended to use a virtual environment instead: https://pip.pypa.io/warnings/venv\u001B[0m\u001B[33m\n",
      "\u001B[0m\u001B[33mWARNING: Running pip as the 'root' user can result in broken permissions and conflicting behaviour with the system package manager. It is recommended to use a virtual environment instead: https://pip.pypa.io/warnings/venv\u001B[0m\u001B[33m\n",
      "\u001B[0m"
     ]
    }
   ],
   "source": [
    "!pip install -q google-cloud-storage==1.43.0\n",
    "!pip install -q graphframes"
   ]
  },
  {
   "cell_type": "code",
   "execution_count": 9,
   "id": "d8f56ecd",
   "metadata": {
    "id": "5609143b",
    "nbgrader": {
     "grade": false,
     "grade_id": "cell-Imports",
     "locked": true,
     "schema_version": 3,
     "solution": false,
     "task": false
    },
    "outputId": "a24aa24b-aa75-4823-83ca-1d7deef0f0de"
   },
   "outputs": [
    {
     "name": "stderr",
     "output_type": "stream",
     "text": [
      "[nltk_data] Downloading package stopwords to /root/nltk_data...\n",
      "[nltk_data]   Package stopwords is already up-to-date!\n"
     ]
    },
    {
     "data": {
      "text/plain": [
       "True"
      ]
     },
     "execution_count": 9,
     "metadata": {},
     "output_type": "execute_result"
    }
   ],
   "source": [
    "import pyspark\n",
    "import sys\n",
    "from collections import Counter, OrderedDict, defaultdict\n",
    "import itertools\n",
    "from itertools import islice, count, groupby\n",
    "import pandas as pd\n",
    "import os\n",
    "import re\n",
    "from operator import itemgetter\n",
    "import nltk\n",
    "from nltk.stem.porter import *\n",
    "from nltk.corpus import stopwords\n",
    "from time import time\n",
    "from pathlib import Path\n",
    "import pickle\n",
    "import pandas as pd\n",
    "from google.cloud import storage\n",
    "\n",
    "import hashlib\n",
    "def _hash(s):\n",
    "    return hashlib.blake2b(bytes(s, encoding='utf8'), digest_size=5).hexdigest()\n",
    "\n",
    "nltk.download('stopwords')"
   ]
  },
  {
   "cell_type": "code",
   "execution_count": 10,
   "id": "38a897f2",
   "metadata": {
    "id": "b10cc999",
    "nbgrader": {
     "grade": false,
     "grade_id": "cell-jar",
     "locked": true,
     "schema_version": 3,
     "solution": false,
     "task": false
    },
    "outputId": "8f93a7ec-71e0-49c1-fc81-9af385849a90"
   },
   "outputs": [
    {
     "name": "stdout",
     "output_type": "stream",
     "text": [
      "-rw-r--r-- 1 root root 247882 Jan  4 15:22 /usr/lib/spark/jars/graphframes-0.8.2-spark3.1-s_2.12.jar\r\n"
     ]
    }
   ],
   "source": [
    "# if nothing prints here you forgot to include the initialization script when starting the cluster\n",
    "!ls -l /usr/lib/spark/jars/graph*"
   ]
  },
  {
   "cell_type": "code",
   "execution_count": 11,
   "id": "47900073",
   "metadata": {
    "id": "d3f86f11",
    "nbgrader": {
     "grade": false,
     "grade_id": "cell-pyspark-import",
     "locked": true,
     "schema_version": 3,
     "solution": false,
     "task": false
    }
   },
   "outputs": [],
   "source": [
    "from pyspark.sql import *\n",
    "from pyspark.sql.functions import *\n",
    "from pyspark import SparkContext, SparkConf, SparkFiles\n",
    "from pyspark.sql import SQLContext\n",
    "from graphframes import *"
   ]
  },
  {
   "cell_type": "code",
   "execution_count": 12,
   "id": "72bed56b",
   "metadata": {
    "id": "5be6dc2a",
    "nbgrader": {
     "grade": false,
     "grade_id": "cell-spark-version",
     "locked": true,
     "schema_version": 3,
     "solution": false,
     "task": false
    },
    "outputId": "07b4e22b-a252-42fb-fe46-d9050e4e7ca8",
    "scrolled": true
   },
   "outputs": [
    {
     "data": {
      "text/html": [
       "\n",
       "            <div>\n",
       "                <p><b>SparkSession - hive</b></p>\n",
       "                \n",
       "        <div>\n",
       "            <p><b>SparkContext</b></p>\n",
       "\n",
       "            <p><a href=\"http://cluster-77ea-m.us-central1-a.c.assignment3-370316.internal:46539\">Spark UI</a></p>\n",
       "\n",
       "            <dl>\n",
       "              <dt>Version</dt>\n",
       "                <dd><code>v3.1.3</code></dd>\n",
       "              <dt>Master</dt>\n",
       "                <dd><code>yarn</code></dd>\n",
       "              <dt>AppName</dt>\n",
       "                <dd><code>PySparkShell</code></dd>\n",
       "            </dl>\n",
       "        </div>\n",
       "        \n",
       "            </div>\n",
       "        "
      ],
      "text/plain": [
       "<pyspark.sql.session.SparkSession at 0x7fdab3c69520>"
      ]
     },
     "execution_count": 12,
     "metadata": {},
     "output_type": "execute_result"
    }
   ],
   "source": [
    "spark"
   ]
  },
  {
   "cell_type": "code",
   "execution_count": 13,
   "id": "980e62a5",
   "metadata": {
    "id": "7adc1bf5",
    "nbgrader": {
     "grade": false,
     "grade_id": "cell-bucket_name",
     "locked": false,
     "schema_version": 3,
     "solution": true,
     "task": false
    }
   },
   "outputs": [],
   "source": [
    "# Put your bucket name below and make sure you can access it without an error\n",
    "bucket_name = 'ofek_alon_project'\n",
    "full_path = f\"gs://{bucket_name}/\"\n",
    "paths=[]\n",
    "\n",
    "client = storage.Client()\n",
    "blobs = client.list_blobs(bucket_name)\n",
    "for b in blobs:\n",
    "    if b.name.startswith('multi'):\n",
    "        paths.append(full_path+b.name)"
   ]
  },
  {
   "cell_type": "code",
   "execution_count": 14,
   "id": "4b071d07",
   "metadata": {},
   "outputs": [
    {
     "name": "stderr",
     "output_type": "stream",
     "text": [
      "23/01/04 16:46:00 WARN org.apache.spark.SparkContext: The path /home/dataproc/inverted_index_gcp.py has been added already. Overwriting of added paths is not supported in the current version.\n",
      "23/01/04 16:46:00 WARN org.apache.spark.SparkContext: The path /home/dataproc/tokenizer.py has been added already. Overwriting of added paths is not supported in the current version.\n",
      "23/01/04 16:46:00 WARN org.apache.spark.SparkContext: The path /home/dataproc/pickle_handler.py has been added already. Overwriting of added paths is not supported in the current version.\n"
     ]
    }
   ],
   "source": [
    "# adding our python module to the cluster\n",
    "sc.addFile(\"/home/dataproc/inverted_index_gcp.py\")\n",
    "sc.addFile(\"/home/dataproc/pickle_handler.py\")\n",
    "sc.addFile(\"/home/dataproc/preprocess_gcp.py\")\n",
    "sys.path.insert(0,SparkFiles.getRootDirectory())"
   ]
  },
  {
   "cell_type": "code",
   "execution_count": 15,
   "id": "4fb38d9b",
   "metadata": {},
   "outputs": [
    {
     "name": "stdout",
     "output_type": "stream",
     "text": [
      "Welcome to\n",
      "      ____              __\n",
      "     / __/__  ___ _____/ /__\n",
      "    _\\ \\/ _ \\/ _ `/ __/  '_/\n",
      "   /__ / .__/\\_,_/_/ /_/\\_\\   version 3.1.3\n",
      "      /_/\n",
      "\n",
      "Using Python version 3.8.15 (default, Nov 22 2022 08:46:39)\n",
      "Spark context Web UI available at http://cluster-77ea-m.us-central1-a.c.assignment3-370316.internal:46539\n",
      "Spark context available as 'sc' (master = yarn, app id = application_1672845681143_0008).\n",
      "SparkSession available as 'spark'.\n"
     ]
    }
   ],
   "source": [
    "from preprocessor_gcp import PreProcessor\n",
    "from pickle_handler import PickleHandler\n",
    "from inverted_index_gcp import *"
   ]
  },
  {
   "cell_type": "code",
   "execution_count": 16,
   "id": "c8b3cecf",
   "metadata": {},
   "outputs": [],
   "source": [
    "pickle_handler = PickleHandler()\n",
    "preprocessor = PreProcessor(spark)"
   ]
  },
  {
   "cell_type": "code",
   "execution_count": 17,
   "id": "c74308f6",
   "metadata": {},
   "outputs": [],
   "source": [
    "# indices = [('text', False), ('text', True), ('title', False), ('anchor_text', False)]\n",
    "indices = [('title', False)]"
   ]
  },
  {
   "cell_type": "code",
   "execution_count": 18,
   "id": "912216f5",
   "metadata": {},
   "outputs": [],
   "source": [
    "def reduce_word_counts(word_counts):\n",
    "    ''' Returns a sorted posting list by wiki_id.\n",
    "    Parameters:\n",
    "    -----------\n",
    "      unsorted_pl: list of tuples\n",
    "        A list of (wiki_id, tf) tuples\n",
    "    Returns:\n",
    "    --------\n",
    "      list of tuples\n",
    "        A sorted posting list.\n",
    "    '''\n",
    "    return sorted(word_counts)"
   ]
  },
  {
   "cell_type": "code",
   "execution_count": 19,
   "id": "26411b89",
   "metadata": {},
   "outputs": [],
   "source": [
    "NUM_BUCKETS = 124\n",
    "\n",
    "\n",
    "def _hash(s):\n",
    "    return hashlib.blake2b(bytes(s, encoding='utf8'), digest_size=5).hexdigest()\n",
    "\n",
    "\n",
    "def token2bucket_id(token):\n",
    "    return int(_hash(token),16) % NUM_BUCKETS"
   ]
  },
  {
   "cell_type": "code",
   "execution_count": 20,
   "id": "6d69ee75",
   "metadata": {},
   "outputs": [],
   "source": [
    "def partition_postings_and_write(postings, bucket_name: str, index_name: str):\n",
    "    ''' A function that partitions the posting lists into buckets, writes out\n",
    "    all posting lists in a bucket to disk, and returns the posting locations for\n",
    "    each bucket. Partitioning should be done through the use of `token2bucket`\n",
    "    above. Writing to disk should use the function  `write_a_posting_list`, a\n",
    "    static method implemented in inverted_index_colab.py under the InvertedIndex\n",
    "    class.\n",
    "    Parameters:\n",
    "    -----------\n",
    "      postings: RDD\n",
    "        An RDD where each item is a (w, posting_list) pair.\n",
    "    Returns:\n",
    "    --------\n",
    "      RDD\n",
    "        An RDD where each item is a posting locations dictionary for a bucket. The\n",
    "        posting locations maintain a list for each word of file locations and\n",
    "        offsets its posting list was written to. See `write_a_posting_list` for\n",
    "        more details.\n",
    "    '''\n",
    "    rdd = postings.map(lambda x: (token2bucket_id(x[0]), [x])).reduceByKey(lambda x, y: x + y)\n",
    "    posting_locs_rdd = rdd.map(lambda x: InvertedIndex.write_a_posting_list(x, bucket_name, index_name))\n",
    "    return posting_locs_rdd"
   ]
  },
  {
   "cell_type": "code",
   "execution_count": 21,
   "id": "c159c41c",
   "metadata": {
    "scrolled": true
   },
   "outputs": [
    {
     "name": "stderr",
     "output_type": "stream",
     "text": [
      "                                                                                \r"
     ]
    },
    {
     "name": "stdout",
     "output_type": "stream",
     "text": [
      "Copying file://index.pkl [Content-Type=application/octet-stream]...\n",
      "- [1 files][ 66.7 MiB/ 66.7 MiB]                                                \n",
      "Operation completed over 1 objects/66.7 MiB.                                     \n"
     ]
    }
   ],
   "source": [
    "for index in indices:\n",
    "    index_type, stemming = index\n",
    "    index_name = index_type + \"_with_stemming\" if stemming else index_type\n",
    "    anchor = index_type == 'anchor_text'\n",
    "    doc_text_pairs, num_of_docs = preprocessor._read_gcp_files(paths, index_type)\n",
    "    if index_type == 'title':\n",
    "        title_id_dict = doc_text_pairs.map(lambda x: {x['id']: x[index_type]}).collect()\n",
    "        pickle_handler.write_pickle_file('title.pkl', title_id_dict)\n",
    "    word_counts = doc_text_pairs.flatMap(lambda x: preprocessor._word_count(text=x[index_type], doc_id=x['id'], stemming=stemming))\n",
    "    postings = word_counts.groupByKey().mapValues(reduce_word_counts)\n",
    "    posting_locs_list = partition_postings_and_write(postings, bucket_name, index_name).collect()\n",
    "    super_posting_locs = preprocessor.get_super_posting_locs(bucket_name)\n",
    "    inverted_index = InvertedIndex()\n",
    "    inverted_index.posting_locs = super_posting_locs\n",
    "    inverted_index.df = preprocessor.calculate_df(postings)\n",
    "    if index_type == 'text':\n",
    "        inverted_index.idf = preprocessor.calculate_idf(postings, num_of_docs) # to be saved seperately\n",
    "        inverted_index.num_of_docs = num_of_docs\n",
    "        tf_idf_dict = preprocessor.calculate_tf_idf(postings, inverted_index.idf)\n",
    "        pickle_handler.write_pickle_file(f'tf_idf_{index_name}.pkl', tf_idf_dict)\n",
    "    inverted_index.write_index('.', 'index')\n",
    "    index_src = \"index.pkl\"\n",
    "    index_dst = f'gs://{bucket_name}/postings_gcp_{index_name}/{index_src}'\n",
    "    !gsutil cp $index_src $index_dst"
   ]
  },
  {
   "cell_type": "code",
   "execution_count": 24,
   "id": "4e519576",
   "metadata": {},
   "outputs": [
    {
     "ename": "FileNotFoundError",
     "evalue": "[Errno 2] No such file or directory: 'gs:/ofek_alon_project/postings_gcp_title/index.pkl'",
     "output_type": "error",
     "traceback": [
      "\u001B[0;31m---------------------------------------------------------------------------\u001B[0m",
      "\u001B[0;31mFileNotFoundError\u001B[0m                         Traceback (most recent call last)",
      "Cell \u001B[0;32mIn[24], line 1\u001B[0m\n\u001B[0;32m----> 1\u001B[0m \u001B[43minverted_index\u001B[49m\u001B[38;5;241;43m.\u001B[39;49m\u001B[43mread_index\u001B[49m\u001B[43m(\u001B[49m\u001B[38;5;124;43mf\u001B[39;49m\u001B[38;5;124;43m'\u001B[39;49m\u001B[38;5;124;43mgs://\u001B[39;49m\u001B[38;5;132;43;01m{\u001B[39;49;00m\u001B[43mbucket_name\u001B[49m\u001B[38;5;132;43;01m}\u001B[39;49;00m\u001B[38;5;124;43m/postings_gcp_\u001B[39;49m\u001B[38;5;132;43;01m{\u001B[39;49;00m\u001B[43mindex_name\u001B[49m\u001B[38;5;132;43;01m}\u001B[39;49;00m\u001B[38;5;124;43m'\u001B[39;49m\u001B[43m,\u001B[49m\u001B[43m \u001B[49m\u001B[38;5;124;43m'\u001B[39;49m\u001B[38;5;124;43mindex\u001B[39;49m\u001B[38;5;124;43m'\u001B[39;49m\u001B[43m)\u001B[49m\n",
      "File \u001B[0;32m/hadoop/spark/tmp/spark-43fa292b-c9db-45c1-b26d-573bef3b6c06/userFiles-e12d5d91-a3fb-49da-bf63-37075ca516d9/inverted_index_gcp.py:169\u001B[0m, in \u001B[0;36mInvertedIndex.read_index\u001B[0;34m(base_dir, name)\u001B[0m\n\u001B[1;32m    167\u001B[0m \u001B[38;5;129m@staticmethod\u001B[39m\n\u001B[1;32m    168\u001B[0m \u001B[38;5;28;01mdef\u001B[39;00m \u001B[38;5;21mread_index\u001B[39m(base_dir, name):\n\u001B[0;32m--> 169\u001B[0m     \u001B[38;5;28;01mwith\u001B[39;00m \u001B[38;5;28;43mopen\u001B[39;49m\u001B[43m(\u001B[49m\u001B[43mPath\u001B[49m\u001B[43m(\u001B[49m\u001B[43mbase_dir\u001B[49m\u001B[43m)\u001B[49m\u001B[43m \u001B[49m\u001B[38;5;241;43m/\u001B[39;49m\u001B[43m \u001B[49m\u001B[38;5;124;43mf\u001B[39;49m\u001B[38;5;124;43m'\u001B[39;49m\u001B[38;5;132;43;01m{\u001B[39;49;00m\u001B[43mname\u001B[49m\u001B[38;5;132;43;01m}\u001B[39;49;00m\u001B[38;5;124;43m.pkl\u001B[39;49m\u001B[38;5;124;43m'\u001B[39;49m\u001B[43m,\u001B[49m\u001B[43m \u001B[49m\u001B[38;5;124;43m'\u001B[39;49m\u001B[38;5;124;43mrb\u001B[39;49m\u001B[38;5;124;43m'\u001B[39;49m\u001B[43m)\u001B[49m \u001B[38;5;28;01mas\u001B[39;00m f:\n\u001B[1;32m    170\u001B[0m         \u001B[38;5;28;01mreturn\u001B[39;00m pickle\u001B[38;5;241m.\u001B[39mload(f)\n",
      "\u001B[0;31mFileNotFoundError\u001B[0m: [Errno 2] No such file or directory: 'gs:/ofek_alon_project/postings_gcp_title/index.pkl'"
     ]
    }
   ],
   "source": [
    "inverted_index.read_index(f'gs://{bucket_name}/postings_gcp_{index_name}', 'index')"
   ]
  },
  {
   "cell_type": "markdown",
   "id": "c52dee14",
   "metadata": {
    "id": "fc0667a9",
    "nbgrader": {
     "grade": false,
     "grade_id": "cell-2a6d655c112e79c5",
     "locked": true,
     "schema_version": 3,
     "solution": false,
     "task": false
    }
   },
   "source": [
    "# PageRank"
   ]
  },
  {
   "cell_type": "markdown",
   "id": "0875c6bd",
   "metadata": {
    "id": "fdd1bdca",
    "nbgrader": {
     "grade": false,
     "grade_id": "cell-2fee4bc8d83c1e2a",
     "locked": true,
     "schema_version": 3,
     "solution": false,
     "task": false
    }
   },
   "source": [
    "**YOUR TASK (10 POINTS):** Compute PageRank for the entire English Wikipedia. Use your implementation for `generate_graph` function from Colab below."
   ]
  },
  {
   "cell_type": "code",
   "execution_count": 19,
   "id": "31a516e2",
   "metadata": {
    "id": "yVjnTvQsegc-"
   },
   "outputs": [],
   "source": [
    "def generate_graph(pages):\n",
    "  ''' Compute the directed graph generated by wiki links.\n",
    "  Parameters:\n",
    "  -----------\n",
    "    pages: RDD\n",
    "      An RDD where each row consists of one wikipedia articles with 'id' and \n",
    "      'anchor_text'.\n",
    "  Returns:\n",
    "  --------\n",
    "    edges: RDD\n",
    "      An RDD where each row represents an edge in the directed graph created by\n",
    "      the wikipedia links. The first entry should the source page id and the \n",
    "      second entry is the destination page id. No duplicates should be present. \n",
    "    vertices: RDD\n",
    "      An RDD where each row represents a vetrix (node) in the directed graph \n",
    "      created by the wikipedia links. No duplicates should be present. \n",
    "  '''\n",
    "  edges = pages.flatMap(lambda x: [(x['id'], row['id']) for row in x['anchor_text']]).distinct()\n",
    "  vertices = pages.flatMap(lambda x: [x['id']] + [row['id'] for row in x['anchor_text']]).distinct().map(lambda x: Row(id=x))\n",
    "  return edges, vertices"
   ]
  },
  {
   "cell_type": "code",
   "execution_count": null,
   "id": "6bc05ba3",
   "metadata": {
    "id": "db005700",
    "nbgrader": {
     "grade": false,
     "grade_id": "cell-PageRank",
     "locked": false,
     "schema_version": 3,
     "solution": true,
     "task": false
    }
   },
   "outputs": [
    {
     "name": "stderr",
     "output_type": "stream",
     "text": [
      "                                                                                \r"
     ]
    },
    {
     "name": "stdout",
     "output_type": "stream",
     "text": [
      "+-------+------------------+\n",
      "|     id|          pagerank|\n",
      "+-------+------------------+\n",
      "|3434750| 9917.889528786583|\n",
      "|  10568| 5387.609470096125|\n",
      "|  32927| 5284.298441243094|\n",
      "|  30680|5130.3860058361915|\n",
      "|5843419| 4959.648354746545|\n",
      "|  68253| 4771.279909629093|\n",
      "|  31717| 4488.233081199123|\n",
      "|  11867| 4148.154882176616|\n",
      "|  14533|3998.1437395714433|\n",
      "| 645042|3533.1092975401457|\n",
      "|  17867|3247.4607632514612|\n",
      "|5042916|2993.2014451081495|\n",
      "|4689264|2983.5765511544087|\n",
      "|  14532| 2935.978529024251|\n",
      "|  25391|2904.7648285829773|\n",
      "|   5405|2892.6298433630327|\n",
      "|4764461|2835.5565581932296|\n",
      "|  15573| 2785.033493615905|\n",
      "|   9316|2783.2072557286942|\n",
      "|8569916| 2776.450966760946|\n",
      "+-------+------------------+\n",
      "only showing top 20 rows\n",
      "\n"
     ]
    }
   ],
   "source": [
    "t_start = time()\n",
    "pages_links = spark.read.parquet(\"gs://wikidata_preprocessed/*\").select(\"id\", \"anchor_text\").rdd\n",
    "# construct the graph \n",
    "edges, vertices = generate_graph(pages_links)\n",
    "# compute PageRank\n",
    "edgesDF = edges.toDF(['src', 'dst']).repartition(124, 'src')\n",
    "verticesDF = vertices.toDF(['id']).repartition(124, 'id')\n",
    "g = GraphFrame(verticesDF, edgesDF)\n",
    "pr_results = g.pageRank(resetProbability=0.15, maxIter=6)\n",
    "pr = pr_results.vertices.select(\"id\", \"pagerank\")\n",
    "pr = pr.sort(col('pagerank').desc())\n",
    "pr.repartition(1).write.csv(f'gs://{bucket_name}/pr', compression=\"gzip\")\n",
    "pr_time = time() - t_start\n",
    "pr.show()"
   ]
  },
  {
   "cell_type": "code",
   "execution_count": null,
   "id": "f7717604",
   "metadata": {
    "id": "2cc36ca9",
    "nbgrader": {
     "grade": true,
     "grade_id": "cell-PageRank_time",
     "locked": true,
     "points": 10,
     "schema_version": 3,
     "solution": false,
     "task": false
    }
   },
   "outputs": [],
   "source": [
    "# test that PageRank computaion took less than 1 hour\n",
    "assert pr_time < 60*60"
   ]
  },
  {
   "cell_type": "markdown",
   "id": "96e9a610",
   "metadata": {
    "id": "7f39m5R5TzZ2"
   },
   "source": [
    "# Reporting"
   ]
  },
  {
   "cell_type": "markdown",
   "id": "a1da57c7",
   "metadata": {
    "id": "HDMJxXTFT4YU"
   },
   "source": [
    "**YOUR TASK (5 points):** execute and complete the following lines to complete \n",
    "the reporting requirements for assignment #3. "
   ]
  },
  {
   "cell_type": "code",
   "execution_count": 22,
   "id": "0f0d5523",
   "metadata": {
    "id": "a0ec9661",
    "nbgrader": {
     "grade": false,
     "grade_id": "cell-size_ofi_input_data",
     "locked": true,
     "schema_version": 3,
     "solution": false,
     "task": false
    },
    "outputId": "54595c29-4ae3-4b78-86d0-d8457ae9c150"
   },
   "outputs": [
    {
     "name": "stdout",
     "output_type": "stream",
     "text": [
      "14.28 GiB    gs://wikidata_preprocessed\r\n"
     ]
    }
   ],
   "source": [
    "# size of input data\n",
    "!gsutil du -sh \"gs://wikidata_preprocessed/\""
   ]
  },
  {
   "cell_type": "code",
   "execution_count": 23,
   "id": "ce25a98a",
   "metadata": {
    "id": "264e0792",
    "nbgrader": {
     "grade": false,
     "grade_id": "cell-size_of_index_data",
     "locked": true,
     "schema_version": 3,
     "solution": false,
     "task": false
    },
    "outputId": "44d9721a-1cd7-4e59-9f78-5439864cfdad"
   },
   "outputs": [
    {
     "name": "stdout",
     "output_type": "stream",
     "text": [
      "5.92 GiB     gs://alonofir/postings_gcp\r\n"
     ]
    }
   ],
   "source": [
    "# size of index data\n",
    "index_dst = f'gs://{bucket_name}/postings_gcp/'\n",
    "!gsutil du -sh \"$index_dst\""
   ]
  },
  {
   "cell_type": "code",
   "execution_count": 1,
   "id": "7a9538ee",
   "metadata": {
    "id": "LQ7r5rxvVuXb",
    "nbgrader": {
     "grade": false,
     "grade_id": "cell-credits",
     "locked": true,
     "schema_version": 3,
     "solution": false,
     "task": false
    }
   },
   "outputs": [
    {
     "name": "stdout",
     "output_type": "stream",
     "text": [
      "I used 16 USD credit during the course of this assignment\n"
     ]
    }
   ],
   "source": [
    "# How many USD credits did you use in GCP during the course of this assignment?\n",
    "cost = 16\n",
    "print(f'I used {cost} USD credit during the course of this assignment')"
   ]
  },
  {
   "cell_type": "markdown",
   "id": "fb0e0ed8",
   "metadata": {
    "id": "fdd1bdca"
   },
   "source": [
    "**Bonus (10 points)** if you implement PageRank in pure PySpark, i.e. without using the GraphFrames package, AND manage to complete 10 iterations of your algorithm on the entire English Wikipedia in less than an hour. \n"
   ]
  },
  {
   "cell_type": "code",
   "execution_count": 20,
   "id": "b8157868",
   "metadata": {
    "nbgrader": {
     "grade": false,
     "grade_id": "cell-PageRank_Bonus",
     "locked": false,
     "schema_version": 3,
     "solution": true,
     "task": false
    }
   },
   "outputs": [],
   "source": [
    "#If you have decided to do the bonus task - please copy the code here \n",
    "\n",
    "bonus_flag = False # Turn flag on (True) if you have implemented this part\n",
    "\n",
    "t_start = time()\n",
    "\n",
    "# PLACE YOUR CODE HERE\n",
    "\n",
    "pr_time_Bonus = time() - t_start\n"
   ]
  },
  {
   "cell_type": "code",
   "execution_count": 21,
   "id": "855f9c94",
   "metadata": {
    "nbgrader": {
     "grade": true,
     "grade_id": "cell-PageRank_Bonus-time",
     "locked": true,
     "points": 10,
     "schema_version": 3,
     "solution": false,
     "task": false
    }
   },
   "outputs": [],
   "source": [
    "# Note:test that PageRank computaion took less than 1 hour\n",
    "assert pr_time_Bonus < 60*60 and bonus_flag"
   ]
  }
 ],
 "metadata": {
  "celltoolbar": "Create Assignment",
  "colab": {
   "collapsed_sections": [],
   "name": "assignment3_gcp.ipynb",
   "provenance": [],
   "toc_visible": true
  },
  "kernelspec": {
   "display_name": "PySpark",
   "language": "python",
   "name": "pyspark"
  },
  "language_info": {
   "codemirror_mode": {
    "name": "ipython",
    "version": 3
   },
   "file_extension": ".py",
   "mimetype": "text/x-python",
   "name": "python",
   "nbconvert_exporter": "python",
   "pygments_lexer": "ipython3",
   "version": "3.8.15"
  }
 },
 "nbformat": 4,
 "nbformat_minor": 5
}
